{
  "nbformat": 4,
  "nbformat_minor": 0,
  "metadata": {
    "colab": {
      "name": "First-Class Functions.ipynb",
      "provenance": [],
      "collapsed_sections": []
    },
    "kernelspec": {
      "name": "python3",
      "display_name": "Python 3"
    },
    "language_info": {
      "name": "python"
    }
  },
  "cells": [
    {
      "cell_type": "markdown",
      "metadata": {
        "id": "bOUKEJYuGBEh"
      },
      "source": [
        "\n",
        "\n",
        "## Functions are \"First Class\" objects in Python\n",
        "\n"
      ]
    },
    {
      "cell_type": "markdown",
      "metadata": {
        "id": "LFP54-kLE4UT"
      },
      "source": [
        "When we say that a function is a first-class object in python, what we mean is that the function definition (the function body) can be saved to a variable and passed around as a variable just like anything else."
      ]
    },
    {
      "cell_type": "code",
      "metadata": {
        "id": "PrSA6Cz3ESzn"
      },
      "source": [
        "def say_hello(name):\n",
        "  return f\"Hello {name}!\"\n",
        "\n",
        "def be_awesome(name):\n",
        "  return f\"{name} is awesome.\"\n",
        "\n",
        "def greet_bob(greeting_func):\n",
        "  return greeting_func('Bob')"
      ],
      "execution_count": 4,
      "outputs": []
    },
    {
      "cell_type": "markdown",
      "metadata": {
        "id": "QFcFoGFdFPum"
      },
      "source": [
        "What a function does basically gets stored to a variable under the function name. The function is invoked when we put the invoking parentheses after the function's name."
      ]
    },
    {
      "cell_type": "code",
      "metadata": {
        "colab": {
          "base_uri": "https://localhost:8080/"
        },
        "id": "tXBfFeruFGIU",
        "outputId": "e7e76a26-3117-48d3-cde1-6e69c7c1ca6e"
      },
      "source": [
        "# the say_hello variable holds the function definition inside of it.\n",
        "print(say_hello)"
      ],
      "execution_count": 8,
      "outputs": [
        {
          "output_type": "stream",
          "name": "stdout",
          "text": [
            "<function say_hello at 0x7f9548e540e0>\n"
          ]
        }
      ]
    },
    {
      "cell_type": "markdown",
      "metadata": {
        "id": "49OAuQudFLYx"
      },
      "source": [
        "Because of this, we can pass functions into other functions as parameters. Notice how when we pass them into a function we don't put the invoking parentheses on the end. If we did that then the function would immediately be invoked and we don't want that to happen yet. "
      ]
    },
    {
      "cell_type": "code",
      "metadata": {
        "colab": {
          "base_uri": "https://localhost:8080/",
          "height": 35
        },
        "id": "wfxEPpdiEsbC",
        "outputId": "68a6c691-5c7d-4232-e08e-348db9231c5b"
      },
      "source": [
        "greet_bob(be_awesome)"
      ],
      "execution_count": 5,
      "outputs": [
        {
          "output_type": "execute_result",
          "data": {
            "application/vnd.google.colaboratory.intrinsic+json": {
              "type": "string"
            },
            "text/plain": [
              "'Bob is awesome.'"
            ]
          },
          "metadata": {},
          "execution_count": 5
        }
      ]
    },
    {
      "cell_type": "code",
      "metadata": {
        "colab": {
          "base_uri": "https://localhost:8080/",
          "height": 35
        },
        "id": "u_G_uzAaExnR",
        "outputId": "a2f1b7e8-4f0e-4288-c18e-c94f3c4dffd6"
      },
      "source": [
        "greet_bob(say_hello)"
      ],
      "execution_count": 6,
      "outputs": [
        {
          "output_type": "execute_result",
          "data": {
            "application/vnd.google.colaboratory.intrinsic+json": {
              "type": "string"
            },
            "text/plain": [
              "'Hello Bob!'"
            ]
          },
          "metadata": {},
          "execution_count": 6
        }
      ]
    },
    {
      "cell_type": "markdown",
      "metadata": {
        "id": "MV5lt5NWGKeE"
      },
      "source": [
        "### A function that does the same thing as a decorator\n",
        "\n",
        "A decorator adds functionality to an already existing function by adding lines of code before and after the function. This extension of functionality takes the original function and \"decorates\" it with some additional functionality.  \n",
        "\n",
        "below we are using a function called `wrapper` to add lines of code before and after we invoke the main function of interest: `my_func`."
      ]
    },
    {
      "cell_type": "code",
      "metadata": {
        "colab": {
          "base_uri": "https://localhost:8080/"
        },
        "id": "5qmCsJQDE2sk",
        "outputId": "2c707033-7d72-4bd2-ce6d-1703ac8f4df6"
      },
      "source": [
        "def my_decorator(my_func):\n",
        "  def wrapper():\n",
        "    print(\"This happens before the function\")\n",
        "    my_func()\n",
        "    print(\"This happens after the function\")\n",
        "  return wrapper\n",
        "\n",
        "def my_func():\n",
        "  print(\"Stuff my function does\")\n",
        "\n",
        "extended_func = my_decorator(my_func)\n",
        "\n",
        "extended_func()"
      ],
      "execution_count": 10,
      "outputs": [
        {
          "output_type": "stream",
          "name": "stdout",
          "text": [
            "This happens before the function\n",
            "Stuff my function does\n",
            "This happens after the function\n"
          ]
        }
      ]
    },
    {
      "cell_type": "markdown",
      "metadata": {
        "id": "Fu6KiPFtH36G"
      },
      "source": [
        "This behavior is so useful that python has special built-in syntax to \"decorate\" functions (add functionality before and after) without having to wrap our function manually every time. "
      ]
    },
    {
      "cell_type": "code",
      "metadata": {
        "colab": {
          "base_uri": "https://localhost:8080/"
        },
        "id": "lc3DNLoVHrz8",
        "outputId": "3c9093df-2c49-4f0a-f0c6-e8ea50ece411"
      },
      "source": [
        "@my_decorator\n",
        "def my_func():\n",
        "  print(\"Stuff my function does\")\n",
        "\n",
        "my_func()"
      ],
      "execution_count": 12,
      "outputs": [
        {
          "output_type": "stream",
          "name": "stdout",
          "text": [
            "This happens before the function\n",
            "Stuff my function does\n",
            "This happens after the function\n"
          ]
        }
      ]
    },
    {
      "cell_type": "markdown",
      "metadata": {
        "id": "C3FGdc11Ie97"
      },
      "source": [
        "What the `@my_decorator` line does, is takes the function declared directly below it and passes it into the function called `my_decorator()` to add functionality before and after the main function is called. "
      ]
    },
    {
      "cell_type": "code",
      "metadata": {
        "id": "3z2VjpQZIWWc"
      },
      "source": [
        ""
      ],
      "execution_count": null,
      "outputs": []
    }
  ]
}
